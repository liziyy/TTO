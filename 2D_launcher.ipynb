{
 "cells": [
  {
   "attachments": {},
   "cell_type": "markdown",
   "metadata": {},
   "source": [
    "# 2D Launcher\n",
    "LayoutOptimization - Enrico Stragiotti - Jun 2023\n",
    "\n",
    "mm, N, MPa\n",
    "\n",
    "### Material and structure definition"
   ]
  },
  {
   "cell_type": "code",
   "execution_count": null,
   "metadata": {},
   "outputs": [],
   "source": [
    "import bcs as BCS\n",
    "import layopt as LAYOPT\n",
    "import trussplot as PLOT\n",
    "import numpy as np\n",
    "import os, time\n",
    "\n",
    "## Structure parameters definition\n",
    "# Structure variables\n",
    "nnodx_cel = 7\n",
    "nnody_cel = 5\n",
    "\n",
    "# Dimensions of the truss\n",
    "L = [3, 1] # X, Y dimensions [mm]\n",
    "f = 1 # [N]\n",
    "# Material definition\n",
    "E = 1 # Young's modulus\n",
    "nu = 0.3 # Poisson coefficient\n",
    "# Stress vaulues definition\n",
    "stress_tension_max, stress_compression_max = 10, -10 # [MPa]\n",
    "# Density\n",
    "rho = 1\n",
    "# Buckling section shape parameter: Circular sections\n",
    "s_buck = np.pi * E / 4 \n",
    "# Joint cost\n",
    "joint_cost = 0 # Joint cost, use to penalize the number of bars. \n",
    "\n",
    "# Thresholding of the members\n",
    "tol=1e-3"
   ]
  },
  {
   "attachments": {},
   "cell_type": "markdown",
   "metadata": {},
   "source": [
    "### BCs definition\n",
    "Choose between the commented load cases.\n",
    "The starting point of the optimization can be changed modifying the variable *a_init*."
   ]
  },
  {
   "cell_type": "code",
   "execution_count": null,
   "metadata": {},
   "outputs": [],
   "source": [
    "# myBCs = BCS.MichCantilever(nnodx_cel,nnody_cel,1,1,f, L)\n",
    "myBCs = BCS.MBB2D_Symm(nnodx_cel,nnody_cel,1,1,f, L)\n",
    "# myBCs = BCS.Cantilever(nnodx_cel,nnody_cel,1,1,f, L) \n",
    "# myBCs = BCS.Cantilever_Low(nnodx_cel,nnody_cel,1,1,f, L)\n",
    "\n",
    "# X0\n",
    "a_init = np.ones(myBCs.ground_structure.shape[0])"
   ]
  },
  {
   "cell_type": "code",
   "execution_count": null,
   "metadata": {},
   "outputs": [],
   "source": [
    "# Create save folder\n",
    "foldername = myBCs.name + '-dim{0}x{1}-{2}x{3}-{4}x{5}-JC={6}-nocell'.format(L[0], L[1], 1, 1,nnodx_cel,nnody_cel, joint_cost)\n",
    "if not os.path.isdir(foldername):\n",
    "    os.makedirs(foldername)\n",
    "if not os.path.isdir(foldername+'/LP'):\n",
    "    os.makedirs(foldername+'/LP')"
   ]
  },
  {
   "attachments": {},
   "cell_type": "markdown",
   "metadata": {},
   "source": [
    "Main code (do not touch!)\n",
    "\n",
    "Two different steps: SLP and NLP.  "
   ]
  },
  {
   "cell_type": "code",
   "execution_count": null,
   "metadata": {},
   "outputs": [],
   "source": [
    "t = time.time()\n",
    "vol_LP, a, q, U, obj_hist_LP = LAYOPT.solveLP_2D_SLP_Buckling(myBCs, stress_tension_max, stress_compression_max, s_buck, joint_cost, False, a_init=a_init)\n",
    "elapsed_LP = time.time() - t\n",
    "\n",
    "LAYOPT.save_files(a,q,U,myBCs,vol_LP,stress_tension_max, stress_compression_max, joint_cost, obj_hist_LP, 0, E, s_buck, False, foldername, True, a>np.max(a)*tol, L, rho, f, elapsed_LP, is3D = False, isL = False)\n",
    "PLOT.plot2D.plotRoutineBuckling(myBCs, a, q, U, vol_LP, stress_tension_max, stress_compression_max, tol, s_buck, obj_hist_LP, False, False, foldername, LP=True, GIF=False)"
   ]
  },
  {
   "cell_type": "code",
   "execution_count": null,
   "metadata": {},
   "outputs": [],
   "source": [
    "# Thresholding and compressive chain cleaning\n",
    "BCs_reduced, a_reduced = LAYOPT.reduce_BCs(myBCs, tol, a, q=q, delete_chain=True)\n",
    "\n",
    "t = time.time()\n",
    "vol, a, q, U, obj_hist = LAYOPT.solveNLP_2D_IPOPT_Buckling(BCs_reduced,myBCs,stress_tension_max,stress_compression_max,E,s_buck,foldername,joint_cost,a_init=a_reduced, a_fem=a)\n",
    "elapsed = time.time() - t\n",
    "\n",
    "LAYOPT.save_files(a,q,U,BCs_reduced,vol,stress_tension_max, stress_compression_max, joint_cost, obj_hist, 0, E, s_buck, False, foldername, False, a>np.max(a)*tol, L, rho, f, elapsed, is3D = False, isL = False, vol_LP=vol_LP)\n",
    "PLOT.plot2D.plotRoutineBuckling(BCs_reduced, a, q, U, vol, stress_tension_max, stress_compression_max, tol, s_buck, obj_hist, obj_hist_LP, False, foldername, LP=False, GIF=False)\n",
    "\n",
    "print(\"Vol: {0:.2f} mm3\".format(vol))\n",
    "print(\"Compliance: {0:.2f} mJ\".format(BCs_reduced.R.T@U))\n",
    "print(\"Max section: {0:.3f} mm2\".format(np.max(a)))\n",
    "print(\"Optimization SLP time: %.2f seconds\" % elapsed_LP) \n",
    "print(\"Optimization time: %.2f seconds\" % elapsed)"
   ]
  }
 ],
 "metadata": {
  "kernelspec": {
   "display_name": "optim",
   "language": "python",
   "name": "python3"
  },
  "language_info": {
   "codemirror_mode": {
    "name": "ipython",
    "version": 3
   },
   "file_extension": ".py",
   "mimetype": "text/x-python",
   "name": "python",
   "nbconvert_exporter": "python",
   "pygments_lexer": "ipython3",
   "version": "3.10.8"
  },
  "orig_nbformat": 4
 },
 "nbformat": 4,
 "nbformat_minor": 2
}
